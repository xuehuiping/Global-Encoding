{
 "cells": [
  {
   "cell_type": "code",
   "execution_count": null,
   "metadata": {},
   "outputs": [],
   "source": [
    "\n",
    "from lxml import etree\n",
    "\n",
    "def sample1():\n",
    "    '''使用样例数据，抽取摘要和正文'''\n",
    "    lines = open('1_sample.txt').readlines()\n",
    "\n",
    "    s1 = open('2_summary.txt', 'w+')\n",
    "    t1 = open('2_short_text.txt', 'w+')\n",
    "\n",
    "    for line in lines:\n",
    "        line = line.strip()\n",
    "        if line.startswith('<doc id='):\n",
    "            content = ''\n",
    "        if line.startswith('</doc>'):\n",
    "            content = content + line\n",
    "            # print('结束了。。。')\n",
    "#             print(content)\n",
    "            # 转为词典\n",
    "            html = etree.HTML(content)\n",
    "            summary = html.xpath('//summary/text()')[0]\n",
    "            shor_text = html.xpath('//short_text/text()')[0]\n",
    "#             print(summary)\n",
    "#             print(shor_text)\n",
    "            s1.write(summary + '\\n')\n",
    "            t1.write(shor_text + '\\n')\n",
    "        content = content + line\n",
    "\n",
    "    s1.close()\n",
    "    t1.close()\n",
    "\n"
   ]
  },
  {
   "cell_type": "code",
   "execution_count": null,
   "metadata": {},
   "outputs": [],
   "source": [
    "sample1()"
   ]
  },
  {
   "cell_type": "code",
   "execution_count": null,
   "metadata": {},
   "outputs": [],
   "source": [
    "\n",
    "import os\n",
    "\n",
    "\n",
    "def sample4(file_name, tgt_file_name):\n",
    "    '''字分词'''\n",
    "    lines = open(file_name).readlines()\n",
    "    if os.path.exists(tgt_file_name):\n",
    "        os.remove(tgt_file_name)\n",
    "    f = open(tgt_file_name, 'w+')\n",
    "    for line in lines:\n",
    "        # print(line)\n",
    "        line = line.strip()\n",
    "        seged = ''\n",
    "        for i in range(len(line)):\n",
    "            c = line[i]\n",
    "            seged = seged + ' ' + c\n",
    "        seged = seged.strip()\n",
    "        # print(seged)\n",
    "        f.write(seged + '\\n')\n",
    "        # break\n",
    "    f.close()\n"
   ]
  },
  {
   "cell_type": "code",
   "execution_count": null,
   "metadata": {},
   "outputs": [],
   "source": [
    "file_name = '2_short_text.txt'\n",
    "tgt_file_name = '4_short_text.txt'\n",
    "\n",
    "sample4(file_name, tgt_file_name)"
   ]
  },
  {
   "cell_type": "code",
   "execution_count": null,
   "metadata": {},
   "outputs": [],
   "source": [
    "file_name = '2_summary.txt'\n",
    "tgt_file_name = '4_summary.txt'\n",
    "\n",
    "sample4(file_name, tgt_file_name)"
   ]
  },
  {
   "cell_type": "code",
   "execution_count": null,
   "metadata": {},
   "outputs": [],
   "source": [
    "from sklearn.model_selection import train_test_split\n",
    "\n",
    "\n",
    "def sample5(X,y):\n",
    "\n",
    "    '''先分出测试集和训练集，再从训练集分出训练集和验证集'''\n",
    "    X_train, X_test, y_train, y_test = train_test_split(X, y, test_size=0.33, random_state=42)\n",
    "\n",
    "    with open('test.src', 'w') as f:\n",
    "        f.writelines(X_test)\n",
    "\n",
    "    with open('test.tgt', 'w') as f:\n",
    "        f.writelines(y_test)\n",
    "\n",
    "    X_train, X_test, y_train, y_test = train_test_split(X_train, y_train, test_size=0.33, random_state=42)\n",
    "\n",
    "    with open('train.src', 'w') as f:\n",
    "        f.writelines(X_train)\n",
    "\n",
    "    with open('train.tgt', 'w') as f:\n",
    "        f.writelines(y_train)\n",
    "\n",
    "    with open('valid.src', 'w') as f:\n",
    "        f.writelines(X_test)\n",
    "\n",
    "    with open('valid.tgt', 'w') as f:\n",
    "        f.writelines(y_test)"
   ]
  },
  {
   "cell_type": "code",
   "execution_count": null,
   "metadata": {},
   "outputs": [],
   "source": [
    "# folder = '/Users/huihui/git/Global-Encoding/prepare_data/'\n",
    "folder = './'\n",
    "X = open(folder + '4_short_text.txt').readlines()\n",
    "y = open(folder + '4_summary.txt').readlines()\n",
    "sample5(X,y)\n",
    "\n",
    "print('开始运行preprocess.py吧~')"
   ]
  },
  {
   "cell_type": "code",
   "execution_count": null,
   "metadata": {},
   "outputs": [],
   "source": []
  },
  {
   "cell_type": "code",
   "execution_count": null,
   "metadata": {},
   "outputs": [],
   "source": []
  }
 ],
 "metadata": {
  "kernelspec": {
   "display_name": "Python 3",
   "language": "python",
   "name": "python3"
  },
  "language_info": {
   "codemirror_mode": {
    "name": "ipython",
    "version": 3
   },
   "file_extension": ".py",
   "mimetype": "text/x-python",
   "name": "python",
   "nbconvert_exporter": "python",
   "pygments_lexer": "ipython3",
   "version": "3.5.6"
  }
 },
 "nbformat": 4,
 "nbformat_minor": 4
}
